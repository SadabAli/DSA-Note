{
 "cells": [
  {
   "cell_type": "code",
   "execution_count": null,
   "id": "86d5a370",
   "metadata": {},
   "outputs": [],
   "source": [
    "class ATM:\n",
    "    def __init__(self):\n",
    "        self.balance=0\n",
    "        self.pin=''\n",
    "        self.menu()\n",
    "\n",
    "    def menu(self):\n",
    "        user_input = int(input('''\n",
    "        1. Press 1 to create pin\n",
    "        2. Press 2 to deposit\n",
    "        3. Press 3 to withdraw\n",
    "        4. Press 4 to check balance\n",
    "        5. Press 5 to create new pin\n",
    "        6. Press 6 to exit\n",
    "        '''))\n",
    "\n",
    "        if user_input == 1:\n",
    "            self.create_pin()\n",
    "        elif user_input == 2:\n",
    "            self.deposit()\n",
    "        elif user_input == 3:\n",
    "            self.withdraw()\n",
    "        elif user_input == 4:\n",
    "            self.Checkbalance()\n",
    "        elif user_input == 5:\n",
    "            self.newpin()\n",
    "        elif user_input == 6:\n",
    "            print(\"Thank you for using the ATM!\")\n",
    "            exit()\n",
    "        else:\n",
    "            print('Invalid input')\n",
    "            self.menu()\n",
    "\n",
    "    def create_pin(self):\n",
    "        uspin = int(input(\"Enter 4 digit pin\"))\n",
    "        self.pin = uspin\n",
    "        print(\"PIN created successfull\")\n",
    "        self.menu()\n",
    "\n",
    "    def deposit(self):\n",
    "        uspin = int(input(\"Enter PIN: \"))\n",
    "        usbalance=int(input(\"Total Balance\"))\n",
    "        usamount =int(input(\"Enter mount to diposit\"))\n",
    "\n",
    "        if uspin == self.pin:\n",
    "            self.balance= usbalance + usamount\n",
    "            print(\"Amount diposit successfully\")\n",
    "        else:\n",
    "            print(\"Chutiya hai kia\")\n",
    "        self.menu()\n",
    "    def withdraw(self):\n",
    "        uspin = int(input(\"Enter PIN: \"))\n",
    "        usbalance=int(input(\"Total Balance\"))\n",
    "        usamount =int(input(\"Enter mount to withdrow\"))\n",
    "\n",
    "        if uspin == self.pin:\n",
    "            if usbalance <= usamount:\n",
    "                self.balance = usbalance - usamount\n",
    "                print(\"Withdrowl Successfull\")\n",
    "            else:\n",
    "                print(\"hahaha, behenka loda\")\n",
    "        else:\n",
    "            print(\"Baap ko bhej tere bass ki baat nahi hai\")\n",
    "        self.menu()\n",
    "    def Checkbalance(self):\n",
    "        uspin = int(input(\"Enter PIN: \"))\n",
    "        if uspin == self.pin:\n",
    "            print(\"Total amount: \",self.balance)\n",
    "        else:\n",
    "            print(\"Invalid PIN\")\n",
    "        self.menu()\n",
    "    def newpin(self):\n",
    "        oldpin =int(input(\"Enter your old PIN\"))\n",
    "        if oldpin == self.pin:\n",
    "            nepin = int(input(\"Enter new PIN\"))\n",
    "            self.pin = nepin\n",
    "            print(\"PIN created successfull\")\n",
    "        else:\n",
    "            print(\"Invalid PIN\")\n",
    "\n",
    "        self.menu()\n",
    "        "
   ]
  },
  {
   "cell_type": "code",
   "execution_count": 6,
   "id": "3df1e36e",
   "metadata": {},
   "outputs": [
    {
     "name": "stdout",
     "output_type": "stream",
     "text": [
      "PIN created successfull\n",
      "PIN created successfull\n",
      "Baap ko bhej tere bass ki baat nahi hai\n"
     ]
    },
    {
     "ename": "ValueError",
     "evalue": "invalid literal for int() with base 10: ''",
     "output_type": "error",
     "traceback": [
      "\u001b[1;31m---------------------------------------------------------------------------\u001b[0m",
      "\u001b[1;31mValueError\u001b[0m                                Traceback (most recent call last)",
      "Cell \u001b[1;32mIn[6], line 1\u001b[0m\n\u001b[1;32m----> 1\u001b[0m obj\u001b[38;5;241m=\u001b[39mATM()\n",
      "Cell \u001b[1;32mIn[5], line 5\u001b[0m, in \u001b[0;36mATM.__init__\u001b[1;34m(self)\u001b[0m\n\u001b[0;32m      3\u001b[0m \u001b[38;5;28mself\u001b[39m\u001b[38;5;241m.\u001b[39mbalance\u001b[38;5;241m=\u001b[39m\u001b[38;5;241m0\u001b[39m\n\u001b[0;32m      4\u001b[0m \u001b[38;5;28mself\u001b[39m\u001b[38;5;241m.\u001b[39mpin\u001b[38;5;241m=\u001b[39m\u001b[38;5;124m'\u001b[39m\u001b[38;5;124m'\u001b[39m\n\u001b[1;32m----> 5\u001b[0m \u001b[38;5;28mself\u001b[39m\u001b[38;5;241m.\u001b[39mmenu()\n",
      "Cell \u001b[1;32mIn[5], line 18\u001b[0m, in \u001b[0;36mATM.menu\u001b[1;34m(self)\u001b[0m\n\u001b[0;32m      8\u001b[0m user_input \u001b[38;5;241m=\u001b[39m \u001b[38;5;28mint\u001b[39m(\u001b[38;5;28minput\u001b[39m(\u001b[38;5;124m'''\u001b[39m\n\u001b[0;32m      9\u001b[0m \u001b[38;5;124m1. Press 1 to create pin\u001b[39m\n\u001b[0;32m     10\u001b[0m \u001b[38;5;124m2. Press 2 to deposit\u001b[39m\n\u001b[1;32m   (...)\u001b[0m\n\u001b[0;32m     14\u001b[0m \u001b[38;5;124m6. Press 6 to exit\u001b[39m\n\u001b[0;32m     15\u001b[0m \u001b[38;5;124m\u001b[39m\u001b[38;5;124m'''\u001b[39m))\n\u001b[0;32m     17\u001b[0m \u001b[38;5;28;01mif\u001b[39;00m user_input \u001b[38;5;241m==\u001b[39m \u001b[38;5;241m1\u001b[39m:\n\u001b[1;32m---> 18\u001b[0m     \u001b[38;5;28mself\u001b[39m\u001b[38;5;241m.\u001b[39mcreate_pin()\n\u001b[0;32m     19\u001b[0m \u001b[38;5;28;01melif\u001b[39;00m user_input \u001b[38;5;241m==\u001b[39m \u001b[38;5;241m2\u001b[39m:\n\u001b[0;32m     20\u001b[0m     \u001b[38;5;28mself\u001b[39m\u001b[38;5;241m.\u001b[39mdeposit()\n",
      "Cell \u001b[1;32mIn[5], line 38\u001b[0m, in \u001b[0;36mATM.create_pin\u001b[1;34m(self)\u001b[0m\n\u001b[0;32m     36\u001b[0m \u001b[38;5;28mself\u001b[39m\u001b[38;5;241m.\u001b[39mpin \u001b[38;5;241m=\u001b[39m uspin\n\u001b[0;32m     37\u001b[0m \u001b[38;5;28mprint\u001b[39m(\u001b[38;5;124m\"\u001b[39m\u001b[38;5;124mPIN created successfull\u001b[39m\u001b[38;5;124m\"\u001b[39m)\n\u001b[1;32m---> 38\u001b[0m \u001b[38;5;28mself\u001b[39m\u001b[38;5;241m.\u001b[39mmenu()\n",
      "Cell \u001b[1;32mIn[5], line 26\u001b[0m, in \u001b[0;36mATM.menu\u001b[1;34m(self)\u001b[0m\n\u001b[0;32m     24\u001b[0m     \u001b[38;5;28mself\u001b[39m\u001b[38;5;241m.\u001b[39mCheckbalance()\n\u001b[0;32m     25\u001b[0m \u001b[38;5;28;01melif\u001b[39;00m user_input \u001b[38;5;241m==\u001b[39m \u001b[38;5;241m5\u001b[39m:\n\u001b[1;32m---> 26\u001b[0m     \u001b[38;5;28mself\u001b[39m\u001b[38;5;241m.\u001b[39mnewpin()\n\u001b[0;32m     27\u001b[0m \u001b[38;5;28;01melif\u001b[39;00m user_input \u001b[38;5;241m==\u001b[39m \u001b[38;5;241m6\u001b[39m:\n\u001b[0;32m     28\u001b[0m     \u001b[38;5;28mprint\u001b[39m(\u001b[38;5;124m\"\u001b[39m\u001b[38;5;124mThank you for using the ATM!\u001b[39m\u001b[38;5;124m\"\u001b[39m)\n",
      "Cell \u001b[1;32mIn[5], line 81\u001b[0m, in \u001b[0;36mATM.newpin\u001b[1;34m(self)\u001b[0m\n\u001b[0;32m     78\u001b[0m \u001b[38;5;28;01melse\u001b[39;00m:\n\u001b[0;32m     79\u001b[0m     \u001b[38;5;28mprint\u001b[39m(\u001b[38;5;124m\"\u001b[39m\u001b[38;5;124mInvalid PIN\u001b[39m\u001b[38;5;124m\"\u001b[39m)\n\u001b[1;32m---> 81\u001b[0m \u001b[38;5;28mself\u001b[39m\u001b[38;5;241m.\u001b[39mmenu()\n",
      "Cell \u001b[1;32mIn[5], line 22\u001b[0m, in \u001b[0;36mATM.menu\u001b[1;34m(self)\u001b[0m\n\u001b[0;32m     20\u001b[0m     \u001b[38;5;28mself\u001b[39m\u001b[38;5;241m.\u001b[39mdeposit()\n\u001b[0;32m     21\u001b[0m \u001b[38;5;28;01melif\u001b[39;00m user_input \u001b[38;5;241m==\u001b[39m \u001b[38;5;241m3\u001b[39m:\n\u001b[1;32m---> 22\u001b[0m     \u001b[38;5;28mself\u001b[39m\u001b[38;5;241m.\u001b[39mwithdraw()\n\u001b[0;32m     23\u001b[0m \u001b[38;5;28;01melif\u001b[39;00m user_input \u001b[38;5;241m==\u001b[39m \u001b[38;5;241m4\u001b[39m:\n\u001b[0;32m     24\u001b[0m     \u001b[38;5;28mself\u001b[39m\u001b[38;5;241m.\u001b[39mCheckbalance()\n",
      "Cell \u001b[1;32mIn[5], line 64\u001b[0m, in \u001b[0;36mATM.withdraw\u001b[1;34m(self)\u001b[0m\n\u001b[0;32m     62\u001b[0m \u001b[38;5;28;01melse\u001b[39;00m:\n\u001b[0;32m     63\u001b[0m     \u001b[38;5;28mprint\u001b[39m(\u001b[38;5;124m\"\u001b[39m\u001b[38;5;124mBaap ko bhej tere bass ki baat nahi hai\u001b[39m\u001b[38;5;124m\"\u001b[39m)\n\u001b[1;32m---> 64\u001b[0m \u001b[38;5;28mself\u001b[39m\u001b[38;5;241m.\u001b[39mmenu()\n",
      "Cell \u001b[1;32mIn[5], line 8\u001b[0m, in \u001b[0;36mATM.menu\u001b[1;34m(self)\u001b[0m\n\u001b[0;32m      7\u001b[0m \u001b[38;5;28;01mdef\u001b[39;00m \u001b[38;5;21mmenu\u001b[39m(\u001b[38;5;28mself\u001b[39m):\n\u001b[1;32m----> 8\u001b[0m     user_input \u001b[38;5;241m=\u001b[39m \u001b[38;5;28mint\u001b[39m(\u001b[38;5;28minput\u001b[39m(\u001b[38;5;124m'''\u001b[39m\n\u001b[0;32m      9\u001b[0m \u001b[38;5;124m    1. Press 1 to create pin\u001b[39m\n\u001b[0;32m     10\u001b[0m \u001b[38;5;124m    2. Press 2 to deposit\u001b[39m\n\u001b[0;32m     11\u001b[0m \u001b[38;5;124m    3. Press 3 to withdraw\u001b[39m\n\u001b[0;32m     12\u001b[0m \u001b[38;5;124m    4. Press 4 to check balance\u001b[39m\n\u001b[0;32m     13\u001b[0m \u001b[38;5;124m    5. Press 5 to create new pin\u001b[39m\n\u001b[0;32m     14\u001b[0m \u001b[38;5;124m    6. Press 6 to exit\u001b[39m\n\u001b[0;32m     15\u001b[0m \u001b[38;5;124m    \u001b[39m\u001b[38;5;124m'''\u001b[39m))\n\u001b[0;32m     17\u001b[0m     \u001b[38;5;28;01mif\u001b[39;00m user_input \u001b[38;5;241m==\u001b[39m \u001b[38;5;241m1\u001b[39m:\n\u001b[0;32m     18\u001b[0m         \u001b[38;5;28mself\u001b[39m\u001b[38;5;241m.\u001b[39mcreate_pin()\n",
      "\u001b[1;31mValueError\u001b[0m: invalid literal for int() with base 10: ''"
     ]
    }
   ],
   "source": [
    "obj=ATM()"
   ]
  },
  {
   "cell_type": "markdown",
   "id": "96e8e4dd",
   "metadata": {},
   "source": [
    "Aggrigation (Has a relationship)\n",
    "\n",
    "customer has a address"
   ]
  },
  {
   "cell_type": "code",
   "execution_count": null,
   "id": "9038581b",
   "metadata": {},
   "outputs": [],
   "source": [
    "class Customer:\n",
    "\n",
    "    def __init__(self,name,address):\n",
    "        self.name=name\n",
    "        # self.__pin=pin\n",
    "        self.address=address\n",
    "    def get_address(self):\n",
    "        print(self.address.city,self.address.state,self.address.get_pin())\n",
    "    \n",
    "\n",
    "class Address:\n",
    "    def __init__(self,city,state,pin):\n",
    "        self.city = city\n",
    "        self.state =state\n",
    "        self.__pin =pin\n",
    "    def get_pin(self):\n",
    "        return self.__pin\n",
    "ad=Address('kendrapara','Odisha',754134)\n",
    "cus=Customer('sadab',ad)"
   ]
  },
  {
   "cell_type": "code",
   "execution_count": 12,
   "id": "81013385",
   "metadata": {},
   "outputs": [
    {
     "name": "stdout",
     "output_type": "stream",
     "text": [
      "kendrapara Odisha 754134\n"
     ]
    }
   ],
   "source": [
    "cus.get_address()"
   ]
  },
  {
   "cell_type": "code",
   "execution_count": 15,
   "id": "9c5794a1",
   "metadata": {},
   "outputs": [],
   "source": [
    "class Customer:\n",
    "    def __init__(self,name,address):\n",
    "        self.name=name\n",
    "        self.address=address\n",
    "    def printname(self):\n",
    "        print(self.name,self.address.city,self.address.state,self.address.get())\n",
    "\n",
    "class Address:\n",
    "    def __init__(self,pin,city,state):\n",
    "        self.__pin =pin\n",
    "        self.city=city\n",
    "        self.state=state\n",
    "    def get(self):\n",
    "        return self.__pin\n",
    "ad=Address(754134,'kendrapara','Odisha')\n",
    "cus=Customer('sadab',ad)"
   ]
  },
  {
   "cell_type": "code",
   "execution_count": 16,
   "id": "53bbf272",
   "metadata": {},
   "outputs": [
    {
     "name": "stdout",
     "output_type": "stream",
     "text": [
      "sadab kendrapara Odisha 754134\n"
     ]
    }
   ],
   "source": [
    "cus.printname()"
   ]
  },
  {
   "cell_type": "markdown",
   "id": "a12c9a1b",
   "metadata": {},
   "source": [
    "Inheritance"
   ]
  },
  {
   "cell_type": "code",
   "execution_count": 17,
   "id": "b4b789f7",
   "metadata": {},
   "outputs": [
    {
     "name": "stdout",
     "output_type": "stream",
     "text": [
      "inside Parent class\n"
     ]
    }
   ],
   "source": [
    "class User:\n",
    "    def __init__(self):\n",
    "        pass\n",
    "    def login(self):\n",
    "        print('inside Parent class')\n",
    "    def redg(self):\n",
    "        print('Inside parent...redg')\n",
    "\n",
    "class Student(User):\n",
    "    def login(self):\n",
    "        return super().login()\n",
    "    def redg(self):\n",
    "        return super().redg()\n",
    "    \n",
    "s=Student()\n",
    "s.login()"
   ]
  },
  {
   "cell_type": "code",
   "execution_count": 32,
   "id": "931212ca",
   "metadata": {},
   "outputs": [
    {
     "name": "stdout",
     "output_type": "stream",
     "text": [
      "Inside smart class\n",
      "inside parent\n",
      "12\n",
      "128\n"
     ]
    }
   ],
   "source": [
    "class phone:\n",
    "    def __init__(self,ram):\n",
    "        print('inside parent')\n",
    "        self.__ram=ram\n",
    "    def getram(self):\n",
    "        return self.__ram\n",
    "class smart(phone):\n",
    "    def __init__(self,ram,rom):\n",
    "        print('Inside smart class')\n",
    "        super().__init__(ram)\n",
    "        self.__rom=rom\n",
    "        \n",
    "    def getrom(self):\n",
    "        return self.__rom\n",
    "\n",
    "\n",
    "s=smart(12,128)\n",
    "print(s.getram())\n",
    "print(s.getrom())\n"
   ]
  },
  {
   "cell_type": "code",
   "execution_count": 35,
   "id": "dcb802a4",
   "metadata": {},
   "outputs": [
    {
     "data": {
      "text/plain": [
       "'sadab'"
      ]
     },
     "execution_count": 35,
     "metadata": {},
     "output_type": "execute_result"
    }
   ],
   "source": [
    "class phone:\n",
    "    def __init__(self):\n",
    "        self.name='sadab'\n",
    "    def login(self):\n",
    "        print('Inside login')\n",
    "class smart(phone):\n",
    "    # def __init__(self):\n",
    "    #     self.redg=241\n",
    "    def enroll(self):\n",
    "        print('Inside Enroll')\n",
    "\n",
    "\n",
    "p=phone()\n",
    "s=smart()\n",
    "s.name\n",
    "\n"
   ]
  },
  {
   "cell_type": "markdown",
   "id": "715fda79",
   "metadata": {},
   "source": [
    "Method Overloading is not alowed in python"
   ]
  },
  {
   "cell_type": "code",
   "execution_count": 23,
   "id": "e4602812",
   "metadata": {},
   "outputs": [
    {
     "name": "stdout",
     "output_type": "stream",
     "text": [
      "Indise child class\n",
      "inside Parent class\n",
      "256 12 Snapdragon\n"
     ]
    }
   ],
   "source": [
    "class tab:\n",
    "    def __init__(self,rom,ram):\n",
    "        print('inside Parent class')\n",
    "        self.__rom=rom\n",
    "        self.__ram=ram\n",
    "    def get_rom(self):\n",
    "        return self.__rom\n",
    "    def get_ram(self):\n",
    "        return self.__ram\n",
    "class phone(tab):\n",
    "    def __init__(self,rom,ram,processor):\n",
    "        print('Indise child class')\n",
    "        super().__init__(rom,ram)\n",
    "        self.__processor=processor\n",
    "    def get_processor(self):\n",
    "        return self.__processor\n",
    "    def display(self):\n",
    "        print(self.get_rom(), self.get_ram(), self.get_processor())\n",
    "\n",
    "p=phone(256,12,'Snapdragon')\n",
    "p.display()\n",
    "\n",
    "    "
   ]
  },
  {
   "cell_type": "code",
   "execution_count": null,
   "id": "832f62ed",
   "metadata": {},
   "outputs": [],
   "source": []
  }
 ],
 "metadata": {
  "kernelspec": {
   "display_name": "base",
   "language": "python",
   "name": "python3"
  },
  "language_info": {
   "codemirror_mode": {
    "name": "ipython",
    "version": 3
   },
   "file_extension": ".py",
   "mimetype": "text/x-python",
   "name": "python",
   "nbconvert_exporter": "python",
   "pygments_lexer": "ipython3",
   "version": "3.11.5"
  }
 },
 "nbformat": 4,
 "nbformat_minor": 5
}
