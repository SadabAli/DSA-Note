{
 "cells": [
  {
   "cell_type": "code",
   "execution_count": 7,
   "id": "55f28400",
   "metadata": {},
   "outputs": [
    {
     "name": "stdout",
     "output_type": "stream",
     "text": [
      "6\n"
     ]
    }
   ],
   "source": [
    "num = input(\"Enter a number\")\n",
    "result = 0 \n",
    "\n",
    "for i in num:\n",
    "    result = result + int(i)\n",
    "print(result)"
   ]
  },
  {
   "cell_type": "code",
   "execution_count": 8,
   "id": "f9cefcb6",
   "metadata": {},
   "outputs": [
    {
     "name": "stdout",
     "output_type": "stream",
     "text": [
      "6\n"
     ]
    }
   ],
   "source": [
    "num = input(\"Enter a number\")\n",
    "result = sum(int(i) for i in num)\n",
    "print(result)"
   ]
  },
  {
   "cell_type": "code",
   "execution_count": 2,
   "id": "c95b811d",
   "metadata": {},
   "outputs": [
    {
     "name": "stdout",
     "output_type": "stream",
     "text": [
      "c is small 2\n"
     ]
    }
   ],
   "source": [
    "# find min number in 3 digit\n",
    "a = int(input(\"Enter a number\"))\n",
    "b = int(input(\"Enter a number\"))\n",
    "c = int(input(\"Enter a number\"))\n",
    "\n",
    "if (a<b and a<c):\n",
    "    print(\"Small number is a\",a)\n",
    "elif ( b<c):\n",
    "    print(\"Small number is b\",b)\n",
    "else:\n",
    "    print (\"c is small\", c)"
   ]
  },
  {
   "cell_type": "code",
   "execution_count": 4,
   "id": "f512aefa",
   "metadata": {},
   "outputs": [
    {
     "name": "stdout",
     "output_type": "stream",
     "text": [
      "2\n",
      "4\n",
      "6\n",
      "8\n",
      "10\n",
      "12\n",
      "14\n",
      "16\n",
      "18\n",
      "20\n"
     ]
    }
   ],
   "source": [
    "# while loop\n",
    "table = int(input(\"Enter a number\"))\n",
    "i = 1\n",
    "while i < 11:\n",
    "    print(table * i)\n",
    "    i = i + 1\n"
   ]
  },
  {
   "cell_type": "code",
   "execution_count": 24,
   "id": "8f8b9b5f",
   "metadata": {},
   "outputs": [
    {
     "name": "stdout",
     "output_type": "stream",
     "text": [
      "*\n",
      "**\n",
      "***\n"
     ]
    }
   ],
   "source": [
    "row = int(input(\"Enter a number\"))\n",
    "\n",
    "for i in range (1,row + 1):\n",
    "    # print(\"*\")\n",
    "    for j in range (1,i + 1):\n",
    "        print(\"*\", end='')\n",
    "    print()"
   ]
  },
  {
   "cell_type": "code",
   "execution_count": null,
   "id": "a211992a",
   "metadata": {},
   "outputs": [
    {
     "name": "stdout",
     "output_type": "stream",
     "text": [
      "1\n",
      "121\n",
      "12321\n",
      "1234321\n"
     ]
    }
   ],
   "source": [
    "row = int(input(\"Enter a number\"))\n",
    "for i in range(1,row + 1):\n",
    "    for j in range(1,i + 1):\n",
    "        print(j, end='')\n",
    "    for k in range (i - 1,0,-1):\n",
    "        print(k,end='')\n",
    "    print()"
   ]
  },
  {
   "cell_type": "code",
   "execution_count": null,
   "id": "5a41ff58",
   "metadata": {},
   "outputs": [],
   "source": []
  }
 ],
 "metadata": {
  "kernelspec": {
   "display_name": "base",
   "language": "python",
   "name": "python3"
  },
  "language_info": {
   "codemirror_mode": {
    "name": "ipython",
    "version": 3
   },
   "file_extension": ".py",
   "mimetype": "text/x-python",
   "name": "python",
   "nbconvert_exporter": "python",
   "pygments_lexer": "ipython3",
   "version": "3.11.5"
  }
 },
 "nbformat": 4,
 "nbformat_minor": 5
}
