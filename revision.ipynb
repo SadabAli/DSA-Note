{
 "cells": [
  {
   "cell_type": "code",
   "execution_count": 7,
   "id": "55f28400",
   "metadata": {},
   "outputs": [
    {
     "name": "stdout",
     "output_type": "stream",
     "text": [
      "6\n"
     ]
    }
   ],
   "source": [
    "num = input(\"Enter a number\")\n",
    "result = 0 \n",
    "\n",
    "for i in num:\n",
    "    result = result + int(i)\n",
    "print(result)"
   ]
  },
  {
   "cell_type": "code",
   "execution_count": 8,
   "id": "f9cefcb6",
   "metadata": {},
   "outputs": [
    {
     "name": "stdout",
     "output_type": "stream",
     "text": [
      "6\n"
     ]
    }
   ],
   "source": [
    "num = input(\"Enter a number\")\n",
    "result = sum(int(i) for i in num)\n",
    "print(result)"
   ]
  },
  {
   "cell_type": "code",
   "execution_count": 25,
   "id": "c95b811d",
   "metadata": {},
   "outputs": [],
   "source": [
    "# find min number in 3 digit\n",
    "a = int(input(\"Enter a number\"))\n",
    "b = int(input(\"Enter a number\"))\n",
    "c = int(input(\"Enter a number\"))\n",
    "\n",
    "if (a<b and a<c):\n",
    "    print(\"Small number is a\",a)\n",
    "elif (b<a and b<c):\n",
    "    print(\"Small number is b\",b)\n",
    "elif(c<a and c<b):\n",
    "    print (\"c is small\", c)"
   ]
  },
  {
   "cell_type": "code",
   "execution_count": 27,
   "id": "9df1a3f6",
   "metadata": {},
   "outputs": [
    {
     "name": "stdout",
     "output_type": "stream",
     "text": [
      "Smallest number(s): a(2) c(2) "
     ]
    }
   ],
   "source": [
    "a = int(input(\"Enter first number: \"))\n",
    "b = int(input(\"Enter second number: \"))\n",
    "c = int(input(\"Enter third number: \"))\n",
    "\n",
    "smallest = min(a, b, c)   # find the minimum value\n",
    "\n",
    "print(\"Smallest number(s): \", end=\"\")\n",
    "if a == smallest:\n",
    "    print(f\"a({a}) \", end=\"\")\n",
    "if b == smallest:\n",
    "    print(f\"b({b}) \", end=\"\")\n",
    "if c == smallest:\n",
    "    print(f\"c({c}) \", end=\"\")\n"
   ]
  },
  {
   "cell_type": "code",
   "execution_count": null,
   "id": "f512aefa",
   "metadata": {},
   "outputs": [],
   "source": []
  }
 ],
 "metadata": {
  "kernelspec": {
   "display_name": "base",
   "language": "python",
   "name": "python3"
  },
  "language_info": {
   "codemirror_mode": {
    "name": "ipython",
    "version": 3
   },
   "file_extension": ".py",
   "mimetype": "text/x-python",
   "name": "python",
   "nbconvert_exporter": "python",
   "pygments_lexer": "ipython3",
   "version": "3.11.5"
  }
 },
 "nbformat": 4,
 "nbformat_minor": 5
}
