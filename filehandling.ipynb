{
 "cells": [
  {
   "cell_type": "code",
   "execution_count": 1,
   "id": "8a210728",
   "metadata": {},
   "outputs": [],
   "source": [
    "with open('sadab.txt','w') as f:\n",
    "    f.write('hy! sadab')"
   ]
  },
  {
   "cell_type": "code",
   "execution_count": 2,
   "id": "387e31b8",
   "metadata": {},
   "outputs": [],
   "source": [
    "with open('sadab.txt','w') as f:\n",
    "    f.write('IshowSpeed')"
   ]
  },
  {
   "cell_type": "code",
   "execution_count": 6,
   "id": "53bf57ec",
   "metadata": {},
   "outputs": [],
   "source": [
    "with open('sadab.txt','a') as f:\n",
    "    f.write('\\nCR7')"
   ]
  },
  {
   "cell_type": "code",
   "execution_count": 7,
   "id": "56d125c9",
   "metadata": {},
   "outputs": [],
   "source": [
    "L=['hii\\n','how\\n','are\\n','you\\n']\n",
    "\n",
    "with open('sadab.txt','w') as f:\n",
    "    f.writelines(L)"
   ]
  },
  {
   "cell_type": "code",
   "execution_count": null,
   "id": "835f5429",
   "metadata": {},
   "outputs": [
    {
     "name": "stdout",
     "output_type": "stream",
     "text": [
      "hii\n",
      "how\n",
      "are\n",
      "you\n",
      "\n"
     ]
    }
   ],
   "source": [
    "with open('sadab.txt','r') as f:\n",
    "    r =f.read()\n",
    "    print(r)"
   ]
  },
  {
   "cell_type": "code",
   "execution_count": 10,
   "id": "74d46589",
   "metadata": {},
   "outputs": [
    {
     "name": "stdout",
     "output_type": "stream",
     "text": [
      "hii\n",
      "how\n",
      "ar\n"
     ]
    }
   ],
   "source": [
    "with open('sadab.txt','r') as f:\n",
    "    r =f.read(10)\n",
    "    print(r)"
   ]
  },
  {
   "cell_type": "code",
   "execution_count": 12,
   "id": "871c2986",
   "metadata": {},
   "outputs": [
    {
     "name": "stdout",
     "output_type": "stream",
     "text": [
      "hii\n",
      "how\n"
     ]
    }
   ],
   "source": [
    "with open('sadab.txt','r') as f:\n",
    "    print(f.readline(),end='')\n",
    "    print(f.readline(),end='')"
   ]
  },
  {
   "cell_type": "code",
   "execution_count": 14,
   "id": "d98495c9",
   "metadata": {},
   "outputs": [
    {
     "name": "stdout",
     "output_type": "stream",
     "text": [
      "hii\n",
      "how\n",
      "are\n",
      "you\n"
     ]
    }
   ],
   "source": [
    "with open('sadab.txt','r') as f:\n",
    "\n",
    "    while True:\n",
    "        data=f.readline()\n",
    "\n",
    "        if data == '':\n",
    "            break\n",
    "        else:\n",
    "            print(data,end='')"
   ]
  },
  {
   "cell_type": "code",
   "execution_count": null,
   "id": "c2dfa726",
   "metadata": {},
   "outputs": [
    {
     "name": "stdout",
     "output_type": "stream",
     "text": [
      "hii\n",
      "how\n",
      "ar\n"
     ]
    }
   ],
   "source": [
    "# moving within a file -> 10 char\n",
    "# this is happens due to buffer memory\n",
    "with open('sadab.txt','r') as f:\n",
    "    print(f.read(10))\n",
    "    # print(f.read(10))\n",
    "    # print(f.read(10))\n",
    "    # print(f.read(10))\n",
    "    # print(f.read(10))\n",
    "    # print(f.read(10))"
   ]
  },
  {
   "cell_type": "code",
   "execution_count": 18,
   "id": "aaeed32d",
   "metadata": {},
   "outputs": [],
   "source": [
    "big_l=['Tejaswini' for i in range(1000)]\n",
    "\n",
    "with open('big.txt','w') as f:\n",
    "    f.writelines(big_l)"
   ]
  },
  {
   "cell_type": "code",
   "execution_count": 20,
   "id": "f88d3bc0",
   "metadata": {},
   "outputs": [
    {
     "name": "stdout",
     "output_type": "stream",
     "text": [
      "ejaswiniTejaswiniTejaswiniTejaswiniTejaswiniTejaswiniTejaswiniTejaswiniTejaswiniTejaswiniTejaswiniTe****aswiniTejaswiniTejaswiniTejaswiniTejaswiniTejaswiniTejaswiniTejaswiniTejaswiniTejaswiniTejaswiniTeja****winiTejaswiniTejaswiniTejaswiniTejaswiniTejaswiniTejaswiniTejaswiniTejaswiniTejaswiniTejaswiniTejasw****niTejaswiniTejaswiniTejaswiniTejaswiniTejaswiniTejaswiniTejaswiniTejaswiniTejaswiniTejaswiniTejaswin****TejaswiniTejaswiniTejaswiniTejaswiniTejaswiniTejaswiniTejaswiniTejaswiniTejaswiniTejaswiniTejaswiniT****jaswiniTejaswiniTejaswiniTejaswiniTejaswiniTejaswiniTejaswiniTejaswiniTejaswiniTejaswiniTejaswiniTej****swiniTejaswiniTejaswiniTejaswiniTejaswiniTejaswiniTejaswiniTejaswiniTejaswiniTejaswiniTejaswiniTejas****iniTejaswiniTejaswiniTejaswiniTejaswiniTejaswiniTejaswiniTejaswiniTejaswiniTejaswiniTejaswiniTejaswi****iTejaswiniTejaswiniTejaswiniTejaswiniTejaswiniTejaswiniTejaswiniTejaswiniTejaswiniTejaswiniTejaswini****ejaswiniTejaswiniTejaswiniTejaswiniTejaswiniTejaswiniTejaswiniTejaswiniTejaswiniTejaswiniTejaswiniTe****aswiniTejaswiniTejaswiniTejaswiniTejaswiniTejaswiniTejaswiniTejaswiniTejaswiniTejaswiniTejaswiniTeja****winiTejaswiniTejaswiniTejaswiniTejaswiniTejaswiniTejaswiniTejaswiniTejaswiniTejaswiniTejaswiniTejasw****niTejaswiniTejaswiniTejaswiniTejaswiniTejaswiniTejaswiniTejaswiniTejaswiniTejaswiniTejaswiniTejaswin****TejaswiniTejaswiniTejaswiniTejaswiniTejaswiniTejaswiniTejaswiniTejaswiniTejaswiniTejaswiniTejaswiniT****jaswiniTejaswiniTejaswiniTejaswiniTejaswiniTejaswiniTejaswiniTejaswiniTejaswiniTejaswiniTejaswiniTej****swiniTejaswiniTejaswiniTejaswiniTejaswiniTejaswiniTejaswiniTejaswiniTejaswiniTejaswiniTejaswiniTejas****iniTejaswiniTejaswiniTejaswiniTejaswiniTejaswiniTejaswiniTejaswiniTejaswiniTejaswiniTejaswiniTejaswi****iTejaswiniTejaswiniTejaswiniTejaswiniTejaswiniTejaswiniTejaswiniTejaswiniTejaswiniTejaswiniTejaswini****ejaswiniTejaswiniTejaswiniTejaswiniTejaswiniTejaswiniTejaswiniTejaswiniTejaswiniTejaswiniTejaswiniTe****aswiniTejaswiniTejaswiniTejaswiniTejaswiniTejaswiniTejaswiniTejaswiniTejaswiniTejaswiniTejaswiniTeja****winiTejaswiniTejaswiniTejaswiniTejaswiniTejaswiniTejaswiniTejaswiniTejaswiniTejaswiniTejaswiniTejasw****niTejaswiniTejaswiniTejaswiniTejaswiniTejaswiniTejaswiniTejaswiniTejaswiniTejaswiniTejaswiniTejaswin****TejaswiniTejaswiniTejaswiniTejaswiniTejaswiniTejaswiniTejaswiniTejaswiniTejaswiniTejaswiniTejaswiniT****jaswiniTejaswiniTejaswiniTejaswiniTejaswiniTejaswiniTejaswiniTejaswiniTejaswiniTejaswiniTejaswiniTej****swiniTejaswiniTejaswiniTejaswiniTejaswiniTejaswiniTejaswiniTejaswiniTejaswiniTejaswiniTejaswiniTejas****iniTejaswiniTejaswiniTejaswiniTejaswiniTejaswiniTejaswiniTejaswiniTejaswiniTejaswiniTejaswiniTejaswi****iTejaswiniTejaswiniTejaswiniTejaswiniTejaswiniTejaswiniTejaswiniTejaswiniTejaswiniTejaswiniTejaswini****ejaswiniTejaswiniTejaswiniTejaswiniTejaswiniTejaswiniTejaswiniTejaswiniTejaswiniTejaswiniTejaswiniTe****aswiniTejaswiniTejaswiniTejaswiniTejaswiniTejaswiniTejaswiniTejaswiniTejaswiniTejaswiniTejaswiniTeja****winiTejaswiniTejaswiniTejaswiniTejaswiniTejaswiniTejaswiniTejaswiniTejaswiniTejaswiniTejaswiniTejasw****niTejaswiniTejaswiniTejaswiniTejaswiniTejaswiniTejaswiniTejaswiniTejaswiniTejaswiniTejaswiniTejaswin****TejaswiniTejaswiniTejaswiniTejaswiniTejaswiniTejaswiniTejaswiniTejaswiniTejaswiniTejaswiniTejaswiniT****jaswiniTejaswiniTejaswiniTejaswiniTejaswiniTejaswiniTejaswiniTejaswiniTejaswiniTejaswiniTejaswiniTej****swiniTejaswiniTejaswiniTejaswiniTejaswiniTejaswiniTejaswiniTejaswiniTejaswiniTejaswiniTejaswiniTejas****iniTejaswiniTejaswiniTejaswiniTejaswiniTejaswiniTejaswiniTejaswiniTejaswiniTejaswiniTejaswiniTejaswi****iTejaswiniTejaswiniTejaswiniTejaswiniTejaswiniTejaswiniTejaswiniTejaswiniTejaswiniTejaswiniTejaswini****ejaswiniTejaswiniTejaswiniTejaswiniTejaswiniTejaswiniTejaswiniTejaswiniTejaswiniTejaswiniTejaswiniTe****aswiniTejaswiniTejaswiniTejaswiniTejaswiniTejaswiniTejaswiniTejaswiniTejaswiniTejaswiniTejaswiniTeja****winiTejaswiniTejaswiniTejaswiniTejaswiniTejaswiniTejaswiniTejaswiniTejaswiniTejaswiniTejaswiniTejasw****niTejaswiniTejaswiniTejaswiniTejaswiniTejaswiniTejaswiniTejaswiniTejaswiniTejaswiniTejaswiniTejaswin****TejaswiniTejaswiniTejaswiniTejaswiniTejaswiniTejaswiniTejaswiniTejaswiniTejaswiniTejaswiniTejaswiniT****jaswiniTejaswiniTejaswiniTejaswiniTejaswiniTejaswiniTejaswiniTejaswiniTejaswiniTejaswiniTejaswiniTej****swiniTejaswiniTejaswiniTejaswiniTejaswiniTejaswiniTejaswiniTejaswiniTejaswiniTejaswiniTejaswiniTejas****iniTejaswiniTejaswiniTejaswiniTejaswiniTejaswiniTejaswiniTejaswiniTejaswiniTejaswiniTejaswiniTejaswi****iTejaswiniTejaswiniTejaswiniTejaswiniTejaswiniTejaswiniTejaswiniTejaswiniTejaswiniTejaswiniTejaswini****"
     ]
    }
   ],
   "source": [
    "with open('big.txt','r') as f:\n",
    "    chunk =100\n",
    "\n",
    "    while len(f.read(chunk)) > 0:\n",
    "        print(f.read(chunk),end='****')"
   ]
  },
  {
   "cell_type": "code",
   "execution_count": 28,
   "id": "d8f9fccd",
   "metadata": {},
   "outputs": [
    {
     "name": "stdout",
     "output_type": "stream",
     "text": [
      "hii\n",
      "how\n",
      "ar\n",
      "12\n",
      "********\n",
      "hii\n",
      "how\n",
      "ar\n",
      "12\n"
     ]
    }
   ],
   "source": [
    "# seek and tell function\n",
    "\n",
    "with open('sadab.txt','r') as f:\n",
    "    print(f.read(10))\n",
    "    print(f.tell())\n",
    "    print('********')\n",
    "    f.seek(0)\n",
    "    print(f.read(10))\n",
    "    print(f.tell())"
   ]
  },
  {
   "cell_type": "markdown",
   "id": "318d2db5",
   "metadata": {},
   "source": [
    "h (1)\n",
    "\n",
    "i (2)\n",
    "\n",
    "i (3)\n",
    "\n",
    "\\n (4)\n",
    "\n",
    "h (5)\n",
    "\n",
    "o (6)\n",
    "\n",
    "w (7)\n",
    "\n",
    "\\n (8)\n",
    "\n",
    "a (9)\n",
    "\n",
    "r (10)\n",
    "\n",
    "\\n (11)\n",
    "\n",
    "1 (12)\n",
    "\n",
    "2 (13)\n",
    "\n",
    "\\n (14)\n",
    "\n"
   ]
  },
  {
   "cell_type": "code",
   "execution_count": null,
   "id": "e48d63fb",
   "metadata": {},
   "outputs": [],
   "source": []
  }
 ],
 "metadata": {
  "kernelspec": {
   "display_name": "base",
   "language": "python",
   "name": "python3"
  },
  "language_info": {
   "codemirror_mode": {
    "name": "ipython",
    "version": 3
   },
   "file_extension": ".py",
   "mimetype": "text/x-python",
   "name": "python",
   "nbconvert_exporter": "python",
   "pygments_lexer": "ipython3",
   "version": "3.11.5"
  }
 },
 "nbformat": 4,
 "nbformat_minor": 5
}
