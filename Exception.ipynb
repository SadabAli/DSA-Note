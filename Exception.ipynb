{
 "cells": [
  {
   "cell_type": "markdown",
   "id": "dd62336b",
   "metadata": {},
   "source": [
    "# Error"
   ]
  },
  {
   "cell_type": "code",
   "execution_count": 14,
   "id": "1b9eae56",
   "metadata": {},
   "outputs": [
    {
     "ename": "SyntaxError",
     "evalue": "expected ':' (1838137632.py, line 2)",
     "output_type": "error",
     "traceback": [
      "\u001b[1;36m  Cell \u001b[1;32mIn[14], line 2\u001b[1;36m\u001b[0m\n\u001b[1;33m    if a==5\u001b[0m\n\u001b[1;37m           ^\u001b[0m\n\u001b[1;31mSyntaxError\u001b[0m\u001b[1;31m:\u001b[0m expected ':'\n"
     ]
    }
   ],
   "source": [
    "a=4\n",
    "if a==5\n",
    "    print('hellow')"
   ]
  },
  {
   "cell_type": "code",
   "execution_count": 4,
   "id": "f02ae3a7",
   "metadata": {},
   "outputs": [
    {
     "ename": "SyntaxError",
     "evalue": "invalid syntax (1299979958.py, line 1)",
     "output_type": "error",
     "traceback": [
      "\u001b[1;36m  Cell \u001b[1;32mIn[4], line 1\u001b[1;36m\u001b[0m\n\u001b[1;33m    iff a==4:\u001b[0m\n\u001b[1;37m        ^\u001b[0m\n\u001b[1;31mSyntaxError\u001b[0m\u001b[1;31m:\u001b[0m invalid syntax\n"
     ]
    }
   ],
   "source": [
    "iff a==4:\n",
    "    print('')"
   ]
  },
  {
   "cell_type": "code",
   "execution_count": 5,
   "id": "c7a70f4f",
   "metadata": {},
   "outputs": [
    {
     "ename": "IndentationError",
     "evalue": "expected an indented block after 'if' statement on line 2 (2419135024.py, line 3)",
     "output_type": "error",
     "traceback": [
      "\u001b[1;36m  Cell \u001b[1;32mIn[5], line 3\u001b[1;36m\u001b[0m\n\u001b[1;33m    print(a)\u001b[0m\n\u001b[1;37m    ^\u001b[0m\n\u001b[1;31mIndentationError\u001b[0m\u001b[1;31m:\u001b[0m expected an indented block after 'if' statement on line 2\n"
     ]
    }
   ],
   "source": [
    "a=4\n",
    "if a==4:\n",
    "print(a)"
   ]
  },
  {
   "cell_type": "code",
   "execution_count": 6,
   "id": "2eaa64bf",
   "metadata": {},
   "outputs": [
    {
     "ename": "IndexError",
     "evalue": "list index out of range",
     "output_type": "error",
     "traceback": [
      "\u001b[1;31m---------------------------------------------------------------------------\u001b[0m",
      "\u001b[1;31mIndexError\u001b[0m                                Traceback (most recent call last)",
      "Cell \u001b[1;32mIn[6], line 2\u001b[0m\n\u001b[0;32m      1\u001b[0m l\u001b[38;5;241m=\u001b[39m[\u001b[38;5;241m1\u001b[39m,\u001b[38;5;241m2\u001b[39m,\u001b[38;5;241m3\u001b[39m]\n\u001b[1;32m----> 2\u001b[0m l[\u001b[38;5;241m100\u001b[39m]\n",
      "\u001b[1;31mIndexError\u001b[0m: list index out of range"
     ]
    }
   ],
   "source": [
    "l=[1,2,3]\n",
    "l[100]"
   ]
  },
  {
   "cell_type": "code",
   "execution_count": 8,
   "id": "29753f64",
   "metadata": {},
   "outputs": [
    {
     "ename": "NameError",
     "evalue": "name 's' is not defined",
     "output_type": "error",
     "traceback": [
      "\u001b[1;31m---------------------------------------------------------------------------\u001b[0m",
      "\u001b[1;31mNameError\u001b[0m                                 Traceback (most recent call last)",
      "Cell \u001b[1;32mIn[8], line 1\u001b[0m\n\u001b[1;32m----> 1\u001b[0m \u001b[38;5;28mprint\u001b[39m(s)\n",
      "\u001b[1;31mNameError\u001b[0m: name 's' is not defined"
     ]
    }
   ],
   "source": [
    "print(s)"
   ]
  },
  {
   "cell_type": "code",
   "execution_count": 9,
   "id": "89edf9f4",
   "metadata": {},
   "outputs": [
    {
     "ename": "ModuleNotFoundError",
     "evalue": "No module named 'numpu'",
     "output_type": "error",
     "traceback": [
      "\u001b[1;31m---------------------------------------------------------------------------\u001b[0m",
      "\u001b[1;31mModuleNotFoundError\u001b[0m                       Traceback (most recent call last)",
      "Cell \u001b[1;32mIn[9], line 1\u001b[0m\n\u001b[1;32m----> 1\u001b[0m \u001b[38;5;28;01mimport\u001b[39;00m \u001b[38;5;21;01mnumpu\u001b[39;00m \u001b[38;5;28;01mas\u001b[39;00m \u001b[38;5;21;01mnp\u001b[39;00m\n",
      "\u001b[1;31mModuleNotFoundError\u001b[0m: No module named 'numpu'"
     ]
    },
    {
     "data": {
      "application/javascript": "\n        if (window._pyforest_update_imports_cell) { window._pyforest_update_imports_cell('import numpy as np'); }\n    ",
      "text/plain": [
       "<IPython.core.display.Javascript object>"
      ]
     },
     "metadata": {},
     "output_type": "display_data"
    },
    {
     "data": {
      "application/javascript": "\n        if (window._pyforest_update_imports_cell) { window._pyforest_update_imports_cell('import numpy as np'); }\n    ",
      "text/plain": [
       "<IPython.core.display.Javascript object>"
      ]
     },
     "metadata": {},
     "output_type": "display_data"
    },
    {
     "data": {
      "application/javascript": "\n        if (window._pyforest_update_imports_cell) { window._pyforest_update_imports_cell('import numpy as np'); }\n    ",
      "text/plain": [
       "<IPython.core.display.Javascript object>"
      ]
     },
     "metadata": {},
     "output_type": "display_data"
    },
    {
     "data": {
      "application/javascript": "\n        if (window._pyforest_update_imports_cell) { window._pyforest_update_imports_cell('import numpy as np'); }\n    ",
      "text/plain": [
       "<IPython.core.display.Javascript object>"
      ]
     },
     "metadata": {},
     "output_type": "display_data"
    },
    {
     "data": {
      "application/javascript": "\n        if (window._pyforest_update_imports_cell) { window._pyforest_update_imports_cell('import numpy as np'); }\n    ",
      "text/plain": [
       "<IPython.core.display.Javascript object>"
      ]
     },
     "metadata": {},
     "output_type": "display_data"
    },
    {
     "data": {
      "application/javascript": "\n        if (window._pyforest_update_imports_cell) { window._pyforest_update_imports_cell('import numpy as np'); }\n    ",
      "text/plain": [
       "<IPython.core.display.Javascript object>"
      ]
     },
     "metadata": {},
     "output_type": "display_data"
    },
    {
     "data": {
      "application/javascript": "\n        if (window._pyforest_update_imports_cell) { window._pyforest_update_imports_cell('import numpy as np'); }\n    ",
      "text/plain": [
       "<IPython.core.display.Javascript object>"
      ]
     },
     "metadata": {},
     "output_type": "display_data"
    },
    {
     "data": {
      "application/javascript": "\n        if (window._pyforest_update_imports_cell) { window._pyforest_update_imports_cell('import numpy as np'); }\n    ",
      "text/plain": [
       "<IPython.core.display.Javascript object>"
      ]
     },
     "metadata": {},
     "output_type": "display_data"
    },
    {
     "data": {
      "application/javascript": "\n        if (window._pyforest_update_imports_cell) { window._pyforest_update_imports_cell('import numpy as np'); }\n    ",
      "text/plain": [
       "<IPython.core.display.Javascript object>"
      ]
     },
     "metadata": {},
     "output_type": "display_data"
    },
    {
     "data": {
      "application/javascript": "\n        if (window._pyforest_update_imports_cell) { window._pyforest_update_imports_cell('import numpy as np'); }\n    ",
      "text/plain": [
       "<IPython.core.display.Javascript object>"
      ]
     },
     "metadata": {},
     "output_type": "display_data"
    },
    {
     "data": {
      "application/javascript": "\n        if (window._pyforest_update_imports_cell) { window._pyforest_update_imports_cell('import numpy as np'); }\n    ",
      "text/plain": [
       "<IPython.core.display.Javascript object>"
      ]
     },
     "metadata": {},
     "output_type": "display_data"
    }
   ],
   "source": [
    "import numpu as np"
   ]
  },
  {
   "cell_type": "code",
   "execution_count": 10,
   "id": "abbb6b8e",
   "metadata": {},
   "outputs": [
    {
     "ename": "KeyError",
     "evalue": "'age'",
     "output_type": "error",
     "traceback": [
      "\u001b[1;31m---------------------------------------------------------------------------\u001b[0m",
      "\u001b[1;31mKeyError\u001b[0m                                  Traceback (most recent call last)",
      "Cell \u001b[1;32mIn[10], line 4\u001b[0m\n\u001b[0;32m      1\u001b[0m d\u001b[38;5;241m=\u001b[39m{\n\u001b[0;32m      2\u001b[0m     \u001b[38;5;124m'\u001b[39m\u001b[38;5;124mname\u001b[39m\u001b[38;5;124m'\u001b[39m:\u001b[38;5;124m'\u001b[39m\u001b[38;5;124msimpal\u001b[39m\u001b[38;5;124m'\u001b[39m\n\u001b[0;32m      3\u001b[0m }\n\u001b[1;32m----> 4\u001b[0m d[\u001b[38;5;124m'\u001b[39m\u001b[38;5;124mage\u001b[39m\u001b[38;5;124m'\u001b[39m]\n",
      "\u001b[1;31mKeyError\u001b[0m: 'age'"
     ]
    }
   ],
   "source": [
    "d={\n",
    "    'name':'simpal'\n",
    "}\n",
    "d['age']"
   ]
  },
  {
   "cell_type": "code",
   "execution_count": 11,
   "id": "fae6885c",
   "metadata": {},
   "outputs": [
    {
     "ename": "ValueError",
     "evalue": "invalid literal for int() with base 10: 'a'",
     "output_type": "error",
     "traceback": [
      "\u001b[1;31m---------------------------------------------------------------------------\u001b[0m",
      "\u001b[1;31mValueError\u001b[0m                                Traceback (most recent call last)",
      "Cell \u001b[1;32mIn[11], line 1\u001b[0m\n\u001b[1;32m----> 1\u001b[0m \u001b[38;5;28mint\u001b[39m(\u001b[38;5;124m'\u001b[39m\u001b[38;5;124ma\u001b[39m\u001b[38;5;124m'\u001b[39m)\n",
      "\u001b[1;31mValueError\u001b[0m: invalid literal for int() with base 10: 'a'"
     ]
    }
   ],
   "source": [
    "int('a')"
   ]
  },
  {
   "cell_type": "code",
   "execution_count": 12,
   "id": "262e6c6f",
   "metadata": {},
   "outputs": [
    {
     "ename": "AttributeError",
     "evalue": "'list' object has no attribute 'upper'",
     "output_type": "error",
     "traceback": [
      "\u001b[1;31m---------------------------------------------------------------------------\u001b[0m",
      "\u001b[1;31mAttributeError\u001b[0m                            Traceback (most recent call last)",
      "Cell \u001b[1;32mIn[12], line 2\u001b[0m\n\u001b[0;32m      1\u001b[0m l\u001b[38;5;241m=\u001b[39m[\u001b[38;5;241m1\u001b[39m,\u001b[38;5;241m2\u001b[39m,\u001b[38;5;241m3\u001b[39m,\u001b[38;5;241m4\u001b[39m]\n\u001b[1;32m----> 2\u001b[0m l\u001b[38;5;241m.\u001b[39mupper()\n",
      "\u001b[1;31mAttributeError\u001b[0m: 'list' object has no attribute 'upper'"
     ]
    }
   ],
   "source": [
    "l=[1,2,3,4]\n",
    "l.upper()"
   ]
  },
  {
   "cell_type": "code",
   "execution_count": 13,
   "id": "3f7dcc88",
   "metadata": {},
   "outputs": [
    {
     "ename": "TypeError",
     "evalue": "unsupported operand type(s) for +: 'int' and 'str'",
     "output_type": "error",
     "traceback": [
      "\u001b[1;31m---------------------------------------------------------------------------\u001b[0m",
      "\u001b[1;31mTypeError\u001b[0m                                 Traceback (most recent call last)",
      "Cell \u001b[1;32mIn[13], line 1\u001b[0m\n\u001b[1;32m----> 1\u001b[0m \u001b[38;5;241m242\u001b[39m \u001b[38;5;241m+\u001b[39m \u001b[38;5;124m'\u001b[39m\u001b[38;5;124msadab\u001b[39m\u001b[38;5;124m'\u001b[39m\n",
      "\u001b[1;31mTypeError\u001b[0m: unsupported operand type(s) for +: 'int' and 'str'"
     ]
    }
   ],
   "source": [
    "242 + 'sadab'"
   ]
  },
  {
   "cell_type": "markdown",
   "id": "67840e6a",
   "metadata": {},
   "source": [
    "# Eception"
   ]
  },
  {
   "cell_type": "code",
   "execution_count": 15,
   "id": "9919b1b7",
   "metadata": {},
   "outputs": [
    {
     "ename": "ZeroDivisionError",
     "evalue": "division by zero",
     "output_type": "error",
     "traceback": [
      "\u001b[1;31m---------------------------------------------------------------------------\u001b[0m",
      "\u001b[1;31mZeroDivisionError\u001b[0m                         Traceback (most recent call last)",
      "Cell \u001b[1;32mIn[15], line 1\u001b[0m\n\u001b[1;32m----> 1\u001b[0m a\u001b[38;5;241m=\u001b[39m\u001b[38;5;241m1\u001b[39m\u001b[38;5;241m/\u001b[39m\u001b[38;5;241m0\u001b[39m\n",
      "\u001b[1;31mZeroDivisionError\u001b[0m: division by zero"
     ]
    }
   ],
   "source": [
    "a=1/0"
   ]
  },
  {
   "cell_type": "markdown",
   "id": "ece7bd29",
   "metadata": {},
   "source": [
    "security and User ecperience"
   ]
  },
  {
   "cell_type": "code",
   "execution_count": 2,
   "id": "6143b547",
   "metadata": {},
   "outputs": [
    {
     "name": "stdout",
     "output_type": "stream",
     "text": [
      "hii\n",
      "how\n",
      "are\n",
      "you\n",
      "\n",
      "missing variable name\n"
     ]
    }
   ],
   "source": [
    "try:\n",
    "\n",
    "  with open('sadab.txt' , 'r') as f:\n",
    "    print(f.read())\n",
    "  print(m)\n",
    "  print(5/0)\n",
    "\n",
    "except FileNotFoundError:\n",
    "  print('you are searching the incorrect file ')\n",
    "except NameError:\n",
    "  print('missing variable name')\n",
    "except ZeroDivisionError:\n",
    "  print('zero cannot devide')\n",
    "except Exception as e:\n",
    "  print(e.with_traceback)"
   ]
  },
  {
   "cell_type": "markdown",
   "id": "22a8181e",
   "metadata": {},
   "source": [
    "## raise"
   ]
  },
  {
   "cell_type": "code",
   "execution_count": 11,
   "id": "e7b5b66b",
   "metadata": {},
   "outputs": [
    {
     "name": "stdout",
     "output_type": "stream",
     "text": [
      "amount cannot be in -ve\n",
      "thanks for visiting\n"
     ]
    }
   ],
   "source": [
    "class Bank:\n",
    "  def __init__(self , balance):\n",
    "    self.balance = balance\n",
    "  def withdrow(self , amount):\n",
    "    self.amount = amount\n",
    "    if self.balance < self.amount:\n",
    "      raise Exception('paisa nahi hai tere pass')\n",
    "    if self.amount <0:\n",
    "      raise Exception('amount cannot be in -ve')\n",
    "    self.balance = self.balance - self.amount\n",
    "\n",
    "obj = Bank(100)\n",
    "try:\n",
    "  obj.withdrow(-400)\n",
    "except Exception as e:\n",
    "  print(e)\n",
    "\n",
    "else:\n",
    "  print(obj.balance)\n",
    "\n",
    "finally:                            # EXAMPLE OF FINALLY\n",
    "  print('thanks for visiting')"
   ]
  },
  {
   "cell_type": "code",
   "execution_count": 13,
   "id": "22df308a",
   "metadata": {},
   "outputs": [
    {
     "name": "stdout",
     "output_type": "stream",
     "text": [
      "900\n"
     ]
    }
   ],
   "source": [
    "class bank:\n",
    "    def __init__(self,balance,amount):\n",
    "        self.balance=balance\n",
    "        self.amount=amount\n",
    "    def withdrow(self):\n",
    "        if self.amount > self.balance:\n",
    "            raise Exception ('backchodi mat kar')\n",
    "        if self.amount < 0:\n",
    "            raise Exception('chutiya')\n",
    "        self.balance -= self.amount\n",
    "        print(self.balance)\n",
    "obj=bank(1000,100)\n",
    "obj.withdrow()"
   ]
  },
  {
   "cell_type": "code",
   "execution_count": 16,
   "id": "9175e3c6",
   "metadata": {},
   "outputs": [
    {
     "name": "stdout",
     "output_type": "stream",
     "text": [
      "chutiya\n"
     ]
    }
   ],
   "source": [
    "class bank:\n",
    "    def __init__(self,balance):\n",
    "        self.balance=balance\n",
    "        # self.amount=amount\n",
    "    def withdrow(self,amount):\n",
    "        self.amount =amount\n",
    "        if self.amount > self.balance:\n",
    "            raise Exception ('backchodi mat kar')\n",
    "        if self.amount < 0:\n",
    "            raise Exception('chutiya')\n",
    "        self.balance -= self.amount\n",
    "        print(self.balance)\n",
    "obj=bank(1000)\n",
    "try:\n",
    "    obj.withdrow(-100)\n",
    "except Exception as e:\n",
    "    print(e)\n"
   ]
  },
  {
   "cell_type": "code",
   "execution_count": 21,
   "id": "ba02426c",
   "metadata": {},
   "outputs": [
    {
     "name": "stdout",
     "output_type": "stream",
     "text": [
      "backchodi mat kar\n",
      "thanks for visiting\n"
     ]
    }
   ],
   "source": [
    "class bank:\n",
    "    def __init__(self,balance):\n",
    "        self.balance=balance\n",
    "        # self.amount=amount\n",
    "    def withdrow(self,amount):\n",
    "        self.amount =amount\n",
    "        if self.amount > self.balance:\n",
    "            raise Exception ('backchodi mat kar')\n",
    "        if self.amount < 0:\n",
    "            raise Exception('chutiya')\n",
    "        self.balance -= self.amount\n",
    "        print(self.balance)\n",
    "obj=bank(1000)\n",
    "try:\n",
    "    obj.withdrow(21100)\n",
    "except Exception as e:\n",
    "    print(e)\n",
    "else:\n",
    "    print(obj.balance)\n",
    "finally:\n",
    "    print('thanks for visiting')"
   ]
  },
  {
   "cell_type": "markdown",
   "id": "14cc29eb",
   "metadata": {},
   "source": [
    "## custom execption"
   ]
  },
  {
   "cell_type": "code",
   "execution_count": 24,
   "id": "9b9999c0",
   "metadata": {},
   "outputs": [
    {
     "name": "stdout",
     "output_type": "stream",
     "text": [
      "Someone is trying to access your account from another device\n",
      "logout from all the device , please give access from primary device\n",
      "Database connection is closed\n"
     ]
    }
   ],
   "source": [
    "class SecuritException(Exception):\n",
    "  def __init__(self,message):\n",
    "    self.message = message\n",
    "  def logout(self):\n",
    "    print('logout from all the device , please give access from primary device')\n",
    "\n",
    "class Server:\n",
    "  def __init__(self , Name ,Mail_ID , Pass , Device):\n",
    "    self.Name = Name\n",
    "    self.Mail_ID = Mail_ID\n",
    "    self.Pass  = Pass\n",
    "    self.Device = Device\n",
    "  def login(self , Mail_ID , Pass , Device):\n",
    "    if Device != self.Device:\n",
    "      raise SecuritException('Someone is trying to access your account from another device')\n",
    "    if Mail_ID != self.Mail_ID and Pass  != self.Pass:\n",
    "      raise SecuritException('Wrong ID and password')\n",
    "    else:\n",
    "      print('successfully login')\n",
    "\n",
    "obj = Server('Mir Sadab Ali' , 'alisadab404@gmail.com' , 'sadabalip' , 'window')\n",
    "try:\n",
    "  obj.login('alisadb404@gmail.com' , 'sadabalip' , 'Linux')\n",
    "except SecuritException as e :\n",
    "  print(e)\n",
    "  e.logout()\n",
    "else:\n",
    "  print('everythings is okay')\n",
    "finally:\n",
    "  print('Database connection is closed')"
   ]
  },
  {
   "cell_type": "code",
   "execution_count": null,
   "id": "0cff3bba",
   "metadata": {},
   "outputs": [],
   "source": []
  }
 ],
 "metadata": {
  "kernelspec": {
   "display_name": "base",
   "language": "python",
   "name": "python3"
  },
  "language_info": {
   "codemirror_mode": {
    "name": "ipython",
    "version": 3
   },
   "file_extension": ".py",
   "mimetype": "text/x-python",
   "name": "python",
   "nbconvert_exporter": "python",
   "pygments_lexer": "ipython3",
   "version": "3.11.5"
  }
 },
 "nbformat": 4,
 "nbformat_minor": 5
}
